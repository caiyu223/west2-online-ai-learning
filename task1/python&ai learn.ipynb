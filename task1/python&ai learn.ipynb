{
 "cells": [
  {
   "cell_type": "markdown",
   "id": "505eab06",
   "metadata": {},
   "source": [
    "# python和ai学习"
   ]
  },
  {
   "cell_type": "markdown",
   "id": "bea1bb60",
   "metadata": {},
   "source": [
    "## python学习"
   ]
  },
  {
   "cell_type": "markdown",
   "id": "2eee928b",
   "metadata": {},
   "source": [
    "- 1.数据结构List、Dict的使用\n",
    "  - list:储存元素\n",
    "  - dic:{key:value} key和value一一对应方便查询\n",
    "\n",
    "- 2.Lambda匿名函数\n",
    "  - lambda x:f(x) 无需函数名，表达简洁\n",
    "\n",
    "- 3.Decorator装饰器\n",
    "  - def decorator(function):  \n",
    "      #添加内容    \n",
    "      function()  \n",
    "      #添加内容  \n",
    "      return decorator_function  \n",
    " \n",
    "    @decorator  \n",
    "    def function()  \n",
    "      ...  \n",
    "  - 输入函数，返回修饰函数即  \n",
    "    def decorator_function()  \n",
    "      #添加内容  \n",
    "      function()  \n",
    "      #添加内容  \n",
    "\n",
    "- 4.类Class、Magic Methods的使用  \n",
    "  - class:opp中重要概念，可储存变量，可定义新函数  \n",
    "  - magic methods:class实例初始化时就会调用  \n",
    "\n",
    "- 5.re正则表达式的使用  \n",
    "  - 基于一定规则对字符串进行匹配  \n",
    "\n",
    "- 6.列表推导式  \n",
    "  - [expression for i in list] 基于expression表达式（关于i）对list中每个元素进行变换  \n",
    "\n",
    "- 7.generator生成器（yield关键字）  \n",
    "  - def generator():  \n",
    "      for i in range(10):  \n",
    "        yield i  \n",
    "  - 生成一个由0到9的生成器，在内存中只有一个数据被储存，调用时依次访问下一个数据  \n",
    "  - 特点：内存占用小，全部访问一遍就没了  \n",
    "\n",
    "- 8.OOP面向对象编程思想  \n",
    "  - 个人理解：在编程时，首先考虑会程序有哪些对象，这些对象有什么信息（数据），能做什么事（函数）  \n",
    "  用程序实现各个对象的基本功能，然后在考虑这些对象会产生什么交互  \n",
    "\n",
    "- 9.Type Hint类型注释\n",
    "  - #单行注释\n",
    "  '''   \n",
    "  '''多行注释  \n",
    "     \n",
    "\n",
    "\n"
   ]
  },
  {
   "cell_type": "markdown",
   "id": "f2a2b70f",
   "metadata": {},
   "source": [
    "## ai学习"
   ]
  },
  {
   "cell_type": "markdown",
   "id": "91678f50",
   "metadata": {},
   "source": [
    "生成式ai的本质是文字接龙，将上文信息输入一个函数，返回最可能下一个字，以此来形成一整段信息。  \n",
    "而如何得到这个函数便是训练ai的过程。将文本输入函数会返回生成文本，再将生成文本与真实下文进行  \n",
    "评估，再反向调节函数参数，使生成文本更可能生成真实下文。通过这些步骤实现对模型的训练\n"
   ]
  }
 ],
 "metadata": {
  "kernelspec": {
   "display_name": "Python 3 (ipykernel)",
   "language": "python",
   "name": "python3"
  },
  "language_info": {
   "codemirror_mode": {
    "name": "ipython",
    "version": 3
   },
   "file_extension": ".py",
   "mimetype": "text/x-python",
   "name": "python",
   "nbconvert_exporter": "python",
   "pygments_lexer": "ipython3",
   "version": "3.13.5"
  }
 },
 "nbformat": 4,
 "nbformat_minor": 5
}
