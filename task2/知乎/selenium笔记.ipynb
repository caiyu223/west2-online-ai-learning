{
 "cells": [
  {
   "cell_type": "markdown",
   "id": "f759134f",
   "metadata": {},
   "source": [
    "# selenium笔记\n"
   ]
  },
  {
   "cell_type": "markdown",
   "id": "3fc2a44c",
   "metadata": {},
   "source": [
    "## 初始化"
   ]
  },
  {
   "cell_type": "code",
   "execution_count": null,
   "id": "4106dab1",
   "metadata": {},
   "outputs": [],
   "source": [
    "from selenium import webdriver\n",
    "from selenium.webdriver.edge.service import Service as EdgeService #edge驱动\n",
    "\n",
    "service = EdgeService(r\"C:\\Program Files (x86)\\Microsoft\\Edge\\Application\\edgedriver_win64 (1)\\msedgedriver.exe\")\n",
    "driver = webdriver.Edge(service = service)\n",
    "url = '网址'\n",
    "driver.get(url)"
   ]
  },
  {
   "cell_type": "markdown",
   "id": "7e975eac",
   "metadata": {},
   "source": [
    "## 元素定位"
   ]
  },
  {
   "cell_type": "code",
   "execution_count": null,
   "id": "e9e0671d",
   "metadata": {},
   "outputs": [],
   "source": [
    "from selenium.webdriver.common.by import By\n",
    "\n",
    "element = driver.find_elemen(By.XPATH,\"路径\")\n",
    "element.text#获取所有文本"
   ]
  },
  {
   "cell_type": "markdown",
   "id": "99319624",
   "metadata": {},
   "source": [
    "### 关于xpath  \n",
    "// 表之下所有元素  \n",
    "/a[@class = '']匹配对于属性\n"
   ]
  },
  {
   "cell_type": "markdown",
   "id": "86fe69c2",
   "metadata": {},
   "source": [
    "## 关于元素等待"
   ]
  },
  {
   "cell_type": "code",
   "execution_count": null,
   "id": "33bf2448",
   "metadata": {},
   "outputs": [],
   "source": [
    "from selenium.webdriver.support.ui import WebDriverWait  #等待元素\n",
    "from selenium.webdriver.support import expected_conditions as EC#与webdriverwait配合\n",
    "wait = WebDriverWait()#初始化\n",
    "element = wait.until(\n",
    "    EC.presence_of_element_located(\n",
    "        (By.XPATH,\"路径\")\n",
    "    )\n",
    ")\n",
    "\n",
    "#还有个EC.presence_of_all_elements_located返回列表，所有匹配的元素"
   ]
  },
  {
   "cell_type": "markdown",
   "id": "e1a78599",
   "metadata": {},
   "source": [
    "## 元素点击"
   ]
  },
  {
   "cell_type": "code",
   "execution_count": null,
   "id": "6c02e1f6",
   "metadata": {},
   "outputs": [],
   "source": [
    "element.click()#简单，但需要元素在可视网页界面内，不可被遮挡\n",
    "driver.execute_script(\"arguments[0].click();\", element)#运用js脚本实现点击，速度更快，在不可视或遮挡情况下也可实现点击\n",
    "#还有个动作链也可实现点击"
   ]
  },
  {
   "cell_type": "markdown",
   "id": "b270c00e",
   "metadata": {},
   "source": [
    "## 关于ActionChains"
   ]
  },
  {
   "cell_type": "code",
   "execution_count": null,
   "id": "020eef98",
   "metadata": {},
   "outputs": [],
   "source": [
    "from selenium.webdriver.common.action_chains import ActionChains  #动作链\n",
    "\n",
    "actions = ActionChains()\n",
    "actions.scroll_by_amount(0,-200).scroll_by_amount(0,5000).perform()#结尾一定要加perform()。\n",
    "#用于模拟用户操作，方法更全面，更精细\n"
   ]
  },
  {
   "cell_type": "markdown",
   "id": "09ddbedb",
   "metadata": {},
   "source": [
    "## 关于网页转化\n",
    "在元素点击后若打开了新网页，需注意此时driver在原网页，需将driver转到新网页才能继续获取网页元素（报错搞了半天才发现是这个问题）"
   ]
  },
  {
   "cell_type": "code",
   "execution_count": null,
   "id": "d1a9c8f1",
   "metadata": {},
   "outputs": [],
   "source": [
    "windows = driver.window_handles #获取当前所有网页\n",
    "driver.switch_to.window(windows[-1]) #选择最新打开的网页"
   ]
  },
  {
   "cell_type": "markdown",
   "id": "3f1e40f8",
   "metadata": {},
   "source": [
    "## 关于文件打开"
   ]
  },
  {
   "cell_type": "code",
   "execution_count": null,
   "id": "f45b4ed3",
   "metadata": {},
   "outputs": [],
   "source": [
    "import csv\n",
    "\n",
    "fieldnames = [] #相当于设置字典key\n",
    "data = {} #key应为上\n",
    "with open('文件路径','w',encoding = 'utf-8-sig') as f:\n",
    "    writer = csv.DictWriter(f,fieldnames=fieldnames)\n",
    "    writer.writeheader()\n",
    "    writer.writerow(data)\n"
   ]
  }
 ],
 "metadata": {
  "kernelspec": {
   "display_name": "Python 3",
   "language": "python",
   "name": "python3"
  },
  "language_info": {
   "codemirror_mode": {
    "name": "ipython",
    "version": 3
   },
   "file_extension": ".py",
   "mimetype": "text/x-python",
   "name": "python",
   "nbconvert_exporter": "python",
   "pygments_lexer": "ipython3",
   "version": "3.13.5"
  }
 },
 "nbformat": 4,
 "nbformat_minor": 5
}
